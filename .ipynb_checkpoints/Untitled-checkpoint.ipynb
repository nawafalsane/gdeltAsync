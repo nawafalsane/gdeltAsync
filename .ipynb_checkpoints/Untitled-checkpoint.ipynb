{
 "cells": [
  {
   "cell_type": "code",
   "execution_count": 1,
   "metadata": {},
   "outputs": [],
   "source": [
    "%load_ext Cython"
   ]
  },
  {
   "cell_type": "code",
   "execution_count": 7,
   "metadata": {},
   "outputs": [],
   "source": [
    "import pandas as pd"
   ]
  },
  {
   "cell_type": "code",
   "execution_count": 9,
   "metadata": {},
   "outputs": [],
   "source": [
    "gkgHeader = ['GKGRECORDID', 'DATE','SourceCollectionIdentifier','SourceCommonName','DocumentIdentifier','Counts','V2Counts',\n",
    " 'Themes','V2Themes','Locations','V2Locations','Persons','V2Persons','Organizations','V2Organizations','V2Tone','Dates','GCAM',\n",
    " 'SharingImage','RelatedImages','SocialImageEmbeds','SocialVideoEmbeds','Quotations','AllNames','Amounts','TranslationInfo',\n",
    " 'Extras']"
   ]
  },
  {
   "cell_type": "code",
   "execution_count": 68,
   "metadata": {},
   "outputs": [],
   "source": [
    "%%cython\n",
    "cdef list[str] finder(str filename):\n",
    "    cdef str line, x, subline\n",
    "    cdef list[str] lst = []\n",
    "    cdef list lstOfSubStrings = [\"MEDICAL\",\"SCIENCE\",\"GENERAL_HEALTH\",\"HEALTH_PANDEMIC\",\"HEALTH_SEXTRANSDISEASE\",\"HEALTH_VACCINATION\",\"MEDICAL_SECURITY\"]\n",
    "    with open(filename) as file:\n",
    "        for line in file:\n",
    "            subline = line.split(\"\\t\")[8]\n",
    "            if any(x in subline for x in lstOfSubStrings):\n",
    "                lst.append(line)\n",
    "    return lst"
   ]
  },
  {
   "cell_type": "code",
   "execution_count": 69,
   "metadata": {},
   "outputs": [
    {
     "name": "stdout",
     "output_type": "stream",
     "text": [
      "53.4 ms ± 1.73 ms per loop (mean ± std. dev. of 7 runs, 10 loops each)\n"
     ]
    }
   ],
   "source": [
    "%%timeit\n",
    "finder('./20150218230000.gkg.csv')"
   ]
  },
  {
   "cell_type": "code",
   "execution_count": 70,
   "metadata": {},
   "outputs": [],
   "source": [
    "def finder_py(filename):\n",
    "    count = 0\n",
    "    lst = []\n",
    "    lstOfSubStrings = [\"MEDICAL\",\"SCIENCE\",\"GENERAL_HEALTH\",\"HEALTH_PANDEMIC\",\"HEALTH_SEXTRANSDISEASE\",\"HEALTH_VACCINATION\",\"MEDICAL_SECURITY\"]\n",
    "    with open(filename) as file:\n",
    "        for line in file:\n",
    "            subline = line.split(\"\\t\")[8]\n",
    "            if any(x in subline for x in lstOfSubStrings):\n",
    "                lst.append(line)\n",
    "    return lst"
   ]
  },
  {
   "cell_type": "code",
   "execution_count": 71,
   "metadata": {},
   "outputs": [
    {
     "name": "stdout",
     "output_type": "stream",
     "text": [
      "58.8 ms ± 2.74 ms per loop (mean ± std. dev. of 7 runs, 10 loops each)\n"
     ]
    }
   ],
   "source": [
    "%%timeit\n",
    "finder_py('./20150218230000.gkg.csv')"
   ]
  },
  {
   "cell_type": "code",
   "execution_count": 59,
   "metadata": {},
   "outputs": [
    {
     "name": "stdout",
     "output_type": "stream",
     "text": [
      "359 ms ± 4.29 ms per loop (mean ± std. dev. of 7 runs, 1 loop each)\n"
     ]
    }
   ],
   "source": [
    "%%timeit\n",
    "tempdf = pd.read_csv('./20150218230000.gkg.csv', sep=\"\\t\")\n",
    "tempdf.iloc[:,8].str.contains(r'MEDICAL|SCIENCE|GENERAL_HEALTH|HEALTH_PANDEMIC|HEALTH_SEXTRANSDISEASE|HEALTH_VACCINATION|MEDICAL_SECURITY',na=False)"
   ]
  },
  {
   "cell_type": "code",
   "execution_count": 34,
   "metadata": {},
   "outputs": [
    {
     "data": {
      "text/plain": [
       "0"
      ]
     },
     "execution_count": 34,
     "metadata": {},
     "output_type": "execute_result"
    }
   ],
   "source": [
    "\"helllo\".find(\"he\")\n"
   ]
  },
  {
   "cell_type": "code",
   "execution_count": 1,
   "metadata": {},
   "outputs": [],
   "source": [
    "import asyncio \n",
    "import aiofiles"
   ]
  },
  {
   "cell_type": "code",
   "execution_count": 2,
   "metadata": {},
   "outputs": [],
   "source": [
    "async def finder_py(filename):\n",
    "    lst = []\n",
    "    lstOfSubStrings = [\"MEDICAL\",\"SCIENCE\",\"GENERAL_HEALTH\",\"HEALTH_PANDEMIC\",\"HEALTH_SEXTRANSDISEASE\",\"HEALTH_VACCINATION\",\"MEDICAL_SECURITY\"]\n",
    "    async with aiofiles.open(filename) as file:\n",
    "        async for line in file:\n",
    "            subline = line.split(\"\\t\")[8]\n",
    "            if any(x in subline for x in lstOfSubStrings):\n",
    "                lst.append(line)\n",
    "    return lst"
   ]
  },
  {
   "cell_type": "code",
   "execution_count": null,
   "metadata": {},
   "outputs": [],
   "source": []
  }
 ],
 "metadata": {
  "kernelspec": {
   "display_name": "Python 3",
   "language": "python",
   "name": "python3"
  },
  "language_info": {
   "codemirror_mode": {
    "name": "ipython",
    "version": 3
   },
   "file_extension": ".py",
   "mimetype": "text/x-python",
   "name": "python",
   "nbconvert_exporter": "python",
   "pygments_lexer": "ipython3",
   "version": "3.6.7"
  }
 },
 "nbformat": 4,
 "nbformat_minor": 2
}
